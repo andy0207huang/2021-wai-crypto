{
 "cells": [
  {
   "cell_type": "markdown",
   "metadata": {},
   "source": [
    "add additional blocks & comments to make the notebook organized as you wish.\n",
    "excited to have us back onto the project.\n",
    "definitely watch the videos and resources I have sent in DISCORD for more info.\n",
    "check for TASK ASSIGNMENTS on NOTION https://www.notion.so/Your-Starter-Package-bd5aa00df3cf4aadaa6385ef9578b3b2\n",
    "\n",
    "message me discord / messenger / 647-769-0077 if you got any questions\n",
    "\n",
    "Burrito & Crypto.\n",
    "Dats a wrap. \n",
    "Haps holliday. ~ Andy Dec24th,2021"
   ]
  },
  {
   "cell_type": "code",
   "execution_count": null,
   "metadata": {},
   "outputs": [],
   "source": [
    "# 1.import libraries"
   ]
  },
  {
   "cell_type": "code",
   "execution_count": null,
   "metadata": {},
   "outputs": [],
   "source": [
    "# 2.import data"
   ]
  },
  {
   "cell_type": "code",
   "execution_count": null,
   "metadata": {},
   "outputs": [],
   "source": [
    "# 3.min max normalize"
   ]
  },
  {
   "cell_type": "code",
   "execution_count": null,
   "metadata": {},
   "outputs": [],
   "source": [
    "# 4.split data into train, validate, test\n",
    "# 4.consider \"historal\" & \"future\" data size (how long in the past you look at? how long in the future you try to predict)"
   ]
  },
  {
   "cell_type": "code",
   "execution_count": null,
   "metadata": {},
   "outputs": [],
   "source": [
    "# 5.import keras, LSTM etc libraries\n",
    "\n",
    "# 5.create and add LSTM layers\n",
    "\n",
    "# 5.compile LSTM model\n"
   ]
  },
  {
   "cell_type": "code",
   "execution_count": null,
   "metadata": {},
   "outputs": [],
   "source": [
    "# 6.display LSTM model summary"
   ]
  },
  {
   "cell_type": "code",
   "execution_count": null,
   "metadata": {},
   "outputs": [],
   "source": [
    "# 7.plot \"training loss\" & \"validation loss\""
   ]
  },
  {
   "cell_type": "code",
   "execution_count": null,
   "metadata": {},
   "outputs": [],
   "source": [
    "# 8.1 predict ONE currency"
   ]
  },
  {
   "cell_type": "code",
   "execution_count": null,
   "metadata": {},
   "outputs": [],
   "source": [
    "# 8.2 plot both ORIGINAL & PREDICTED data points"
   ]
  },
  {
   "cell_type": "code",
   "execution_count": null,
   "metadata": {},
   "outputs": [],
   "source": [
    "# 9.1 repeat prediction model for other currencies"
   ]
  },
  {
   "cell_type": "code",
   "execution_count": null,
   "metadata": {},
   "outputs": [],
   "source": [
    "# 9.2 repeat plots for other currencies"
   ]
  }
 ],
 "metadata": {
  "interpreter": {
   "hash": "21949e8da7d82f17ed1e0fd4a6b8df4622942a189c00d28dd2259a736a80ce44"
  },
  "kernelspec": {
   "display_name": "Python 3.8.1 64-bit",
   "language": "python",
   "name": "python3"
  },
  "language_info": {
   "name": "python",
   "version": "3.8.1"
  },
  "orig_nbformat": 4
 },
 "nbformat": 4,
 "nbformat_minor": 2
}
